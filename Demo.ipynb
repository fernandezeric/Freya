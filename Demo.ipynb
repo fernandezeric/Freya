{
 "cells": [
  {
   "cell_type": "code",
   "execution_count": 6,
   "metadata": {},
   "outputs": [],
   "source": [
    "import requests\n",
    "import json\n",
    "from astropy.io import ascii\n",
    "from astropy.table import Table"
   ]
  },
  {
   "cell_type": "code",
   "execution_count": 3,
   "metadata": {},
   "outputs": [],
   "source": [
    "def consulta_hms(hms,radius,format,catalog,amount):\n",
    "    url = 'http://0.0.0.0:5000/get_data/lc_hms'\n",
    "    args = {'hms':hms,'radius':radius,'format':format,'catalogs':catalog,'amount':amount}\n",
    "    r = requests.get(url=url,params=args)\n",
    "    return r"
   ]
  },
  {
   "cell_type": "code",
   "execution_count": 4,
   "metadata": {},
   "outputs": [],
   "source": [
    "def consulta_degree(ra,dec,radius,format,catalog,amount):\n",
    "    url = 'http://0.0.0.0:5000/get_data/lc_degree'\n",
    "    args = {'ra':ra,'dec':dec,'radius':radius,'format':format,'catalogs':catalog,'amount':amount}\n",
    "    r = requests.get(url=url,params=args)\n",
    "    return r"
   ]
  },
  {
   "cell_type": "code",
   "execution_count": 14,
   "metadata": {},
   "outputs": [],
   "source": [
    "all_data = consulta_degree(139.33444972,68.6350604,0.0002777,'csv','ps1,ztf','nearest')"
   ]
  },
  {
   "cell_type": "code",
   "execution_count": 15,
   "metadata": {},
   "outputs": [],
   "source": [
    "all_data = ascii.read(all_data.text,  format='csv', guess=False)"
   ]
  },
  {
   "cell_type": "code",
   "execution_count": 16,
   "metadata": {},
   "outputs": [
    {
     "data": {
      "text/html": [
       "<i>Table length=84</i>\n",
       "<table id=\"table139912869063552\" class=\"table-striped table-bordered table-condensed\">\n",
       "<thead><tr><th>oid</th><th>detectID</th><th>filterID</th><th>mjd</th><th>ra</th><th>dec</th><th>psfFlux</th><th>psfFluxErr</th><th>psfMajorFWHM</th><th>psfMinorFWHM</th><th>psfQfPerfect</th><th>apFlux</th><th>apFluxErr</th><th>infoFlag</th><th>infoFlag2</th><th>infoFlag3</th><th>catalog</th><th>expid</th><th>hjd</th><th>mag</th><th>magerr</th><th>catflags</th><th>filtercode</th><th>chi</th><th>sharp</th><th>filefracday</th><th>field</th><th>ccdid</th><th>qid</th><th>limitmag</th><th>magzp</th><th>magzprms</th><th>clrcoeff</th><th>clrcounc</th><th>exptime</th><th>airmass</th><th>programid</th></tr></thead>\n",
       "<thead><tr><th>int64</th><th>int64</th><th>int64</th><th>float64</th><th>float64</th><th>float64</th><th>float64</th><th>float64</th><th>float64</th><th>float64</th><th>float64</th><th>float64</th><th>float64</th><th>int64</th><th>int64</th><th>int64</th><th>str3</th><th>int64</th><th>float64</th><th>float64</th><th>float64</th><th>int64</th><th>str2</th><th>float64</th><th>float64</th><th>int64</th><th>int64</th><th>float64</th><th>float64</th><th>float64</th><th>float64</th><th>float64</th><th>float64</th><th>float64</th><th>int64</th><th>float64</th><th>int64</th></tr></thead>\n",
       "<tr><td>190361393344112894</td><td>153443866410000015</td><td>3</td><td>55635.4389349</td><td>139.33447819</td><td>68.63506142</td><td>0.008843869902193546</td><td>1.0087999726238195e-05</td><td>1.548509955406189</td><td>1.4958100318908691</td><td>0.9047060012817383</td><td>0.008679470047354698</td><td>1.0326800293114502e-05</td><td>102760517</td><td>128</td><td>7374912</td><td>PS1</td><td>--</td><td>--</td><td>--</td><td>--</td><td>--</td><td>--</td><td>--</td><td>--</td><td>--</td><td>--</td><td>--</td><td>--</td><td>--</td><td>--</td><td>--</td><td>--</td><td>--</td><td>--</td><td>--</td><td>--</td></tr>\n",
       "<tr><td>190361393344112894</td><td>153445192410000017</td><td>3</td><td>55635.4521903</td><td>139.33449752</td><td>68.63506221</td><td>0.008280499838292599</td><td>1.0222100172541104e-05</td><td>1.9910399913787842</td><td>1.956779956817627</td><td>0.9989989995956421</td><td>0.00838323961943388</td><td>1.0059299711429048e-05</td><td>102760517</td><td>128</td><td>7374912</td><td>PS1</td><td>--</td><td>--</td><td>--</td><td>--</td><td>--</td><td>--</td><td>--</td><td>--</td><td>--</td><td>--</td><td>--</td><td>--</td><td>--</td><td>--</td><td>--</td><td>--</td><td>--</td><td>--</td><td>--</td><td>--</td></tr>\n",
       "<tr><td>190361393344112894</td><td>153347716310000010</td><td>1</td><td>55634.477414</td><td>139.3345207</td><td>68.63503577</td><td>0.00826191995292902</td><td>1.1407400052121375e-05</td><td>1.881850004196167</td><td>1.7673399448394775</td><td>0.9929159879684448</td><td>0.008617050014436245</td><td>1.1423299838497769e-05</td><td>102760517</td><td>128</td><td>124782656</td><td>PS1</td><td>--</td><td>--</td><td>--</td><td>--</td><td>--</td><td>--</td><td>--</td><td>--</td><td>--</td><td>--</td><td>--</td><td>--</td><td>--</td><td>--</td><td>--</td><td>--</td><td>--</td><td>--</td><td>--</td><td>--</td></tr>\n",
       "<tr><td>190361393344112894</td><td>153348968310000008</td><td>1</td><td>55634.4899457</td><td>139.33448821</td><td>68.63506146</td><td>0.007737299893051386</td><td>1.102680016629165e-05</td><td>1.8103100061416626</td><td>1.605180025100708</td><td>0.9984610080718994</td><td>0.007921719923615456</td><td>1.0940600077447016e-05</td><td>102760517</td><td>128</td><td>124782656</td><td>PS1</td><td>--</td><td>--</td><td>--</td><td>--</td><td>--</td><td>--</td><td>--</td><td>--</td><td>--</td><td>--</td><td>--</td><td>--</td><td>--</td><td>--</td><td>--</td><td>--</td><td>--</td><td>--</td><td>--</td><td>--</td></tr>\n",
       "<tr><td>190361393344112894</td><td>153441340410000012</td><td>2</td><td>55635.4136426</td><td>139.33447173</td><td>68.6350534</td><td>0.009787579998373985</td><td>1.1084300240327138e-05</td><td>1.6787899732589722</td><td>1.5652999877929688</td><td>0.9985089898109436</td><td>0.009907630272209644</td><td>1.1123100193799473e-05</td><td>102760517</td><td>128</td><td>124815424</td><td>PS1</td><td>--</td><td>--</td><td>--</td><td>--</td><td>--</td><td>--</td><td>--</td><td>--</td><td>--</td><td>--</td><td>--</td><td>--</td><td>--</td><td>--</td><td>--</td><td>--</td><td>--</td><td>--</td><td>--</td><td>--</td></tr>\n",
       "<tr><td>190361393344112894</td><td>153442549410000013</td><td>2</td><td>55635.4257356</td><td>139.33447732</td><td>68.63505279</td><td>0.009362099692225456</td><td>1.1004999578290153e-05</td><td>1.3472399711608887</td><td>1.2095199823379517</td><td>0.40749600529670715</td><td>0.009506789967417717</td><td>1.0994899639626965e-05</td><td>102760517</td><td>160</td><td>34880</td><td>PS1</td><td>--</td><td>--</td><td>--</td><td>--</td><td>--</td><td>--</td><td>--</td><td>--</td><td>--</td><td>--</td><td>--</td><td>--</td><td>--</td><td>--</td><td>--</td><td>--</td><td>--</td><td>--</td><td>--</td><td>--</td></tr>\n",
       "<tr><td>190361393344112894</td><td>118025265260000028</td><td>4</td><td>55281.2528285</td><td>139.33447243</td><td>68.63507592</td><td>0.005556920077651739</td><td>1.2427400179149117e-05</td><td>1.1078200340270996</td><td>0.9493029713630676</td><td>0.9975399971008301</td><td>0.005616980139166117</td><td>1.2113199773011729e-05</td><td>102760517</td><td>128</td><td>7374912</td><td>PS1</td><td>--</td><td>--</td><td>--</td><td>--</td><td>--</td><td>--</td><td>--</td><td>--</td><td>--</td><td>--</td><td>--</td><td>--</td><td>--</td><td>--</td><td>--</td><td>--</td><td>--</td><td>--</td><td>--</td><td>--</td></tr>\n",
       "<tr><td>190361393344112894</td><td>118026233260000017</td><td>4</td><td>55281.2625151</td><td>139.3344753</td><td>68.63507505</td><td>0.006145799998193979</td><td>1.3183999726606999e-05</td><td>1.0866999626159668</td><td>0.9652569890022278</td><td>0.9555839896202087</td><td>0.006260519847273827</td><td>1.2802999663108494e-05</td><td>102760517</td><td>128</td><td>7374912</td><td>PS1</td><td>--</td><td>--</td><td>--</td><td>--</td><td>--</td><td>--</td><td>--</td><td>--</td><td>--</td><td>--</td><td>--</td><td>--</td><td>--</td><td>--</td><td>--</td><td>--</td><td>--</td><td>--</td><td>--</td><td>--</td></tr>\n",
       "<tr><td>190361393344112894</td><td>115636667260000047</td><td>5</td><td>55257.3668569</td><td>139.33445713</td><td>68.63507615</td><td>0.005354930181056261</td><td>2.6245999833918177e-05</td><td>2.5283899307250977</td><td>2.4677300453186035</td><td>0.9989349842071533</td><td>0.005433760117739439</td><td>1.6695599697413854e-05</td><td>102760517</td><td>128</td><td>24119360</td><td>PS1</td><td>--</td><td>--</td><td>--</td><td>--</td><td>--</td><td>--</td><td>--</td><td>--</td><td>--</td><td>--</td><td>--</td><td>--</td><td>--</td><td>--</td><td>--</td><td>--</td><td>--</td><td>--</td><td>--</td><td>--</td></tr>\n",
       "<tr><td>190361393344112894</td><td>115637788260000041</td><td>5</td><td>55257.3780646</td><td>139.33444929</td><td>68.63506405</td><td>0.005313179921358824</td><td>2.175470035581384e-05</td><td>1.8098100423812866</td><td>1.7773000001907349</td><td>0.999800980091095</td><td>0.005322880111634731</td><td>1.7123500583693385e-05</td><td>102760517</td><td>128</td><td>124815424</td><td>PS1</td><td>--</td><td>--</td><td>--</td><td>--</td><td>--</td><td>--</td><td>--</td><td>--</td><td>--</td><td>--</td><td>--</td><td>--</td><td>--</td><td>--</td><td>--</td><td>--</td><td>--</td><td>--</td><td>--</td><td>--</td></tr>\n",
       "<tr><td>...</td><td>...</td><td>...</td><td>...</td><td>...</td><td>...</td><td>...</td><td>...</td><td>...</td><td>...</td><td>...</td><td>...</td><td>...</td><td>...</td><td>...</td><td>...</td><td>...</td><td>...</td><td>...</td><td>...</td><td>...</td><td>...</td><td>...</td><td>...</td><td>...</td><td>...</td><td>...</td><td>...</td><td>...</td><td>...</td><td>...</td><td>...</td><td>...</td><td>...</td><td>...</td><td>...</td><td>...</td></tr>\n",
       "<tr><td>1848215200006181</td><td>--</td><td>--</td><td>58509.4753819</td><td>139.3344224</td><td>68.6350973</td><td>--</td><td>--</td><td>--</td><td>--</td><td>--</td><td>--</td><td>--</td><td>--</td><td>--</td><td>--</td><td>ZTF</td><td>75547538</td><td>2458509.979185881</td><td>14.7406845</td><td>0.0106606111</td><td>0</td><td>zr</td><td>0.764999986</td><td>0.00100000005</td><td>20190126475370</td><td>1848</td><td>15.0</td><td>2.0</td><td>19.8999996</td><td>26.1157112</td><td>0.0462847799</td><td>0.0985792205</td><td>6.04581946e-05</td><td>30</td><td>1.27900004</td><td>2</td></tr>\n",
       "<tr><td>1848215200006181</td><td>--</td><td>--</td><td>58534.3705093</td><td>139.3345263</td><td>68.6352901</td><td>--</td><td>--</td><td>--</td><td>--</td><td>--</td><td>--</td><td>--</td><td>--</td><td>--</td><td>--</td><td>ZTF</td><td>78037050</td><td>2458534.8736852934</td><td>13.8954563</td><td>0.0108393617</td><td>0</td><td>zr</td><td>1.50899994</td><td>0.0209999997</td><td>20190220370451</td><td>1848</td><td>15.0</td><td>2.0</td><td>18.9699993</td><td>26.1121655</td><td>0.0452377275</td><td>0.102352947</td><td>9.37409277e-05</td><td>30</td><td>1.22000003</td><td>1</td></tr>\n",
       "<tr><td>1848215200006181</td><td>--</td><td>--</td><td>58540.2290509</td><td>139.334429</td><td>68.6350604</td><td>--</td><td>--</td><td>--</td><td>--</td><td>--</td><td>--</td><td>--</td><td>--</td><td>--</td><td>--</td><td>ZTF</td><td>78622905</td><td>2458540.731990671</td><td>13.990696</td><td>0.0107866442</td><td>0</td><td>zr</td><td>0.850000024</td><td>0.0260000005</td><td>20190226229051</td><td>1848</td><td>15.0</td><td>2.0</td><td>21.5900002</td><td>26.1179123</td><td>0.0262660775</td><td>0.0938024297</td><td>1.97903846e-05</td><td>30</td><td>1.22099996</td><td>1</td></tr>\n",
       "<tr><td>1848215200006181</td><td>--</td><td>--</td><td>58558.1959606</td><td>139.3344451</td><td>68.6351031</td><td>--</td><td>--</td><td>--</td><td>--</td><td>--</td><td>--</td><td>--</td><td>--</td><td>--</td><td>--</td><td>ZTF</td><td>80419596</td><td>2458558.698007525</td><td>13.8278322</td><td>0.0108805383</td><td>0</td><td>zr</td><td>1.44200003</td><td>0.00300000003</td><td>20190316195903</td><td>1848</td><td>15.0</td><td>2.0</td><td>19.7700005</td><td>26.1010895</td><td>0.0427166298</td><td>0.107573532</td><td>5.3005846e-05</td><td>30</td><td>1.204</td><td>1</td></tr>\n",
       "<tr><td>1848215200006181</td><td>--</td><td>--</td><td>58574.2368634</td><td>139.3344541</td><td>68.6350566</td><td>--</td><td>--</td><td>--</td><td>--</td><td>--</td><td>--</td><td>--</td><td>--</td><td>--</td><td>--</td><td>ZTF</td><td>82023686</td><td>2458574.7379578715</td><td>14.147131</td><td>0.0107148187</td><td>32768</td><td>zr</td><td>0.750999987</td><td>0.0270000007</td><td>20190401236817</td><td>1848</td><td>15.0</td><td>2.0</td><td>18.1000004</td><td>23.3399982</td><td>0.0620350838</td><td>0.0735353753</td><td>0.000562914822</td><td>30</td><td>1.19599998</td><td>1</td></tr>\n",
       "<tr><td>1848215200006181</td><td>--</td><td>--</td><td>58582.2465509</td><td>139.3344606</td><td>68.6350744</td><td>--</td><td>--</td><td>--</td><td>--</td><td>--</td><td>--</td><td>--</td><td>--</td><td>--</td><td>--</td><td>ZTF</td><td>82824655</td><td>2458582.7471384467</td><td>14.6577702</td><td>0.0106428405</td><td>0</td><td>zr</td><td>0.949999988</td><td>0.0430000015</td><td>20190409246331</td><td>1848</td><td>15.0</td><td>2.0</td><td>21.4400005</td><td>26.0837154</td><td>0.0242690295</td><td>0.0869946703</td><td>1.71393767e-05</td><td>30</td><td>1.22899997</td><td>1</td></tr>\n",
       "<tr><td>1848215200006181</td><td>--</td><td>--</td><td>58589.205625</td><td>139.3344367</td><td>68.6350705</td><td>--</td><td>--</td><td>--</td><td>--</td><td>--</td><td>--</td><td>--</td><td>--</td><td>--</td><td>--</td><td>ZTF</td><td>83520562</td><td>2458589.7057655635</td><td>14.6860209</td><td>0.0106478129</td><td>32768</td><td>zr</td><td>0.875999987</td><td>-0.00400000019</td><td>20190416205613</td><td>1848</td><td>15.0</td><td>2.0</td><td>18.9300003</td><td>25.2470894</td><td>0.0432026088</td><td>0.079918839</td><td>9.25418426e-05</td><td>30</td><td>1.204</td><td>1</td></tr>\n",
       "<tr><td>1848215200006181</td><td>--</td><td>--</td><td>58592.2858218</td><td>139.3344538</td><td>68.6350633</td><td>--</td><td>--</td><td>--</td><td>--</td><td>--</td><td>--</td><td>--</td><td>--</td><td>--</td><td>--</td><td>ZTF</td><td>83828582</td><td>2458592.7857643533</td><td>14.1780415</td><td>0.0107029937</td><td>0</td><td>zr</td><td>0.648000002</td><td>0.0579999983</td><td>20190419285822</td><td>1848</td><td>15.0</td><td>2.0</td><td>20.25</td><td>26.0642853</td><td>0.0291203111</td><td>0.0991738737</td><td>2.44737384e-05</td><td>30</td><td>1.37399995</td><td>1</td></tr>\n",
       "<tr><td>1848215200006181</td><td>--</td><td>--</td><td>58593.3256597</td><td>139.3344692</td><td>68.6350733</td><td>--</td><td>--</td><td>--</td><td>--</td><td>--</td><td>--</td><td>--</td><td>--</td><td>--</td><td>--</td><td>ZTF</td><td>83932565</td><td>2458593.825535519</td><td>14.3781013</td><td>0.0106477272</td><td>0</td><td>zr</td><td>1.13100004</td><td>-0.00200000009</td><td>20190420325637</td><td>1848</td><td>15.0</td><td>2.0</td><td>20.1700001</td><td>26.0549736</td><td>0.031960994</td><td>0.105759881</td><td>2.91526412e-05</td><td>30</td><td>1.53499997</td><td>1</td></tr>\n",
       "<tr><td>1848215200006181</td><td>--</td><td>--</td><td>58618.2627315</td><td>139.3344807</td><td>68.6350725</td><td>--</td><td>--</td><td>--</td><td>--</td><td>--</td><td>--</td><td>--</td><td>--</td><td>--</td><td>--</td><td>ZTF</td><td>86426273</td><td>2458618.761081573</td><td>14.6537886</td><td>0.0106422259</td><td>0</td><td>zr</td><td>0.698000014</td><td>-0.0199999996</td><td>20190515262720</td><td>1848</td><td>15.0</td><td>2.0</td><td>20.5</td><td>25.9440804</td><td>0.0275051985</td><td>0.0945984796</td><td>2.14473257e-05</td><td>30</td><td>1.55999994</td><td>1</td></tr>\n",
       "</table>"
      ],
      "text/plain": [
       "<Table length=84>\n",
       "       oid              detectID      filterID ... exptime  airmass   programid\n",
       "      int64              int64         int64   ...  int64   float64     int64  \n",
       "------------------ ------------------ -------- ... ------- ---------- ---------\n",
       "190361393344112894 153443866410000015        3 ...      --         --        --\n",
       "190361393344112894 153445192410000017        3 ...      --         --        --\n",
       "190361393344112894 153347716310000010        1 ...      --         --        --\n",
       "190361393344112894 153348968310000008        1 ...      --         --        --\n",
       "190361393344112894 153441340410000012        2 ...      --         --        --\n",
       "190361393344112894 153442549410000013        2 ...      --         --        --\n",
       "190361393344112894 118025265260000028        4 ...      --         --        --\n",
       "190361393344112894 118026233260000017        4 ...      --         --        --\n",
       "190361393344112894 115636667260000047        5 ...      --         --        --\n",
       "190361393344112894 115637788260000041        5 ...      --         --        --\n",
       "               ...                ...      ... ...     ...        ...       ...\n",
       "  1848215200006181                 --       -- ...      30 1.27900004         2\n",
       "  1848215200006181                 --       -- ...      30 1.22000003         1\n",
       "  1848215200006181                 --       -- ...      30 1.22099996         1\n",
       "  1848215200006181                 --       -- ...      30      1.204         1\n",
       "  1848215200006181                 --       -- ...      30 1.19599998         1\n",
       "  1848215200006181                 --       -- ...      30 1.22899997         1\n",
       "  1848215200006181                 --       -- ...      30      1.204         1\n",
       "  1848215200006181                 --       -- ...      30 1.37399995         1\n",
       "  1848215200006181                 --       -- ...      30 1.53499997         1\n",
       "  1848215200006181                 --       -- ...      30 1.55999994         1"
      ]
     },
     "execution_count": 16,
     "metadata": {},
     "output_type": "execute_result"
    }
   ],
   "source": [
    "all_data"
   ]
  },
  {
   "cell_type": "code",
   "execution_count": 24,
   "metadata": {},
   "outputs": [
    {
     "data": {
      "text/plain": [
       "'{\"errors\": {\"ra\": \"(degrees) Right Ascension Missing required parameter in the query string\"}, \"message\": \"Input payload validation failed\"}\\n'"
      ]
     },
     "execution_count": 24,
     "metadata": {},
     "output_type": "execute_result"
    }
   ],
   "source": [
    "# VOtable\n",
    "import io\n",
    "from astropy.io.votable import parse,parse_single_table,from_table, writeto\n",
    "votable = rdg_junto_hms.text#.encode(encoding='UTF-8')\n",
    "votable\n",
    "#bio = io.BytesIO(votable)\n",
    "#votable = parse(bio)\n",
    "#table = parse_single_table(bio).to_table()\n",
    "#table"
   ]
  },
  {
   "cell_type": "code",
   "execution_count": null,
   "metadata": {},
   "outputs": [],
   "source": [
    "all_data = ascii.read(rdg_junto.text,  format='csv', guess=False)\n",
    "tabla_juntotodo"
   ]
  },
  {
   "cell_type": "code",
   "execution_count": null,
   "metadata": {},
   "outputs": [],
   "source": []
  },
  {
   "cell_type": "code",
   "execution_count": 1,
   "metadata": {},
   "outputs": [],
   "source": [
    "from Freya_alerce.catalogs.core.data_lc import DataLcDegree,DataLcHms\n",
    "from astropy.io import ascii\n",
    "from astropy.table import Table"
   ]
  },
  {
   "cell_type": "code",
   "execution_count": 2,
   "metadata": {},
   "outputs": [],
   "source": [
    "data_ps1 = DataLcDegree(catalog='ps1',ra=139.33444972,dec=68.6350604,radius=0.00356,format='votable',nearest=True).get_data()\n",
    "data_ztf = DataLcDegree(catalog='ztf',ra=139.33444972,dec=68.6350604,radius=0.0002777,format='csv',nearest=False).get_data()"
   ]
  },
  {
   "cell_type": "code",
   "execution_count": 3,
   "metadata": {},
   "outputs": [
    {
     "data": {
      "text/html": [
       "<i>Table length=75</i>\n",
       "<table id=\"table140115336502288\" class=\"table-striped table-bordered table-condensed\">\n",
       "<thead><tr><th>oid</th><th>detectID</th><th>filterID</th><th>mjd</th><th>ra</th><th>dec</th><th>psfFlux</th><th>psfFluxErr</th><th>psfMajorFWHM</th><th>psfMinorFWHM</th><th>psfQfPerfect</th><th>apFlux</th><th>apFluxErr</th><th>infoFlag</th><th>infoFlag2</th><th>infoFlag3</th></tr></thead>\n",
       "<thead><tr><th></th><th></th><th></th><th></th><th>deg</th><th>deg</th><th></th><th></th><th></th><th></th><th></th><th></th><th></th><th></th><th></th><th></th></tr></thead>\n",
       "<thead><tr><th>int64</th><th>int64</th><th>uint8</th><th>float64</th><th>float64</th><th>float64</th><th>float32</th><th>float32</th><th>float32</th><th>float32</th><th>float32</th><th>float32</th><th>float32</th><th>int64</th><th>int32</th><th>int32</th></tr></thead>\n",
       "<tr><td>190361393343891094</td><td>262444864030001447</td><td>2</td><td>56725.4488812</td><td>139.33424619</td><td>68.63343717</td><td>1.40016e-05</td><td>2.09095e-06</td><td>1.52967</td><td>1.41423</td><td>0.783015</td><td>2.42361e-05</td><td>5.70736e-07</td><td>35651585</td><td>0</td><td>74481664</td></tr>\n",
       "<tr><td>190361393343891094</td><td>262444188030000970</td><td>2</td><td>56725.4421191</td><td>139.33448709</td><td>68.63358558</td><td>1.78796e-05</td><td>2.36599e-06</td><td>1.64384</td><td>1.52862</td><td>0.741727</td><td>3.14198e-05</td><td>6.44808e-07</td><td>35651585</td><td>0</td><td>7372800</td></tr>\n",
       "<tr><td>190361393344112894</td><td>153443866410000015</td><td>3</td><td>55635.4389349</td><td>139.33447819</td><td>68.63506142</td><td>0.00884387</td><td>1.0088e-05</td><td>1.54851</td><td>1.49581</td><td>0.904706</td><td>0.00867947</td><td>1.03268e-05</td><td>102760517</td><td>128</td><td>7374912</td></tr>\n",
       "<tr><td>190361393344112894</td><td>153445192410000017</td><td>3</td><td>55635.4521903</td><td>139.33449752</td><td>68.63506221</td><td>0.0082805</td><td>1.02221e-05</td><td>1.99104</td><td>1.95678</td><td>0.998999</td><td>0.00838324</td><td>1.00593e-05</td><td>102760517</td><td>128</td><td>7374912</td></tr>\n",
       "<tr><td>190361393344112894</td><td>153347716310000010</td><td>1</td><td>55634.477414</td><td>139.3345207</td><td>68.63503577</td><td>0.00826192</td><td>1.14074e-05</td><td>1.88185</td><td>1.76734</td><td>0.992916</td><td>0.00861705</td><td>1.14233e-05</td><td>102760517</td><td>128</td><td>124782656</td></tr>\n",
       "<tr><td>190361393344112894</td><td>153348968310000008</td><td>1</td><td>55634.4899457</td><td>139.33448821</td><td>68.63506146</td><td>0.0077373</td><td>1.10268e-05</td><td>1.81031</td><td>1.60518</td><td>0.998461</td><td>0.00792172</td><td>1.09406e-05</td><td>102760517</td><td>128</td><td>124782656</td></tr>\n",
       "<tr><td>190361393344112894</td><td>153441340410000012</td><td>2</td><td>55635.4136426</td><td>139.33447173</td><td>68.6350534</td><td>0.00978758</td><td>1.10843e-05</td><td>1.67879</td><td>1.5653</td><td>0.998509</td><td>0.00990763</td><td>1.11231e-05</td><td>102760517</td><td>128</td><td>124815424</td></tr>\n",
       "<tr><td>190361393344112894</td><td>153442549410000013</td><td>2</td><td>55635.4257356</td><td>139.33447732</td><td>68.63505279</td><td>0.0093621</td><td>1.1005e-05</td><td>1.34724</td><td>1.20952</td><td>0.407496</td><td>0.00950679</td><td>1.09949e-05</td><td>102760517</td><td>160</td><td>34880</td></tr>\n",
       "<tr><td>190361393344112894</td><td>118025265260000028</td><td>4</td><td>55281.2528285</td><td>139.33447243</td><td>68.63507592</td><td>0.00555692</td><td>1.24274e-05</td><td>1.10782</td><td>0.949303</td><td>0.99754</td><td>0.00561698</td><td>1.21132e-05</td><td>102760517</td><td>128</td><td>7374912</td></tr>\n",
       "<tr><td>...</td><td>...</td><td>...</td><td>...</td><td>...</td><td>...</td><td>...</td><td>...</td><td>...</td><td>...</td><td>...</td><td>...</td><td>...</td><td>...</td><td>...</td><td>...</td></tr>\n",
       "<tr><td>190361393344112894</td><td>262444188030000265</td><td>2</td><td>56725.4421191</td><td>139.33440513</td><td>68.63515693</td><td>0.00578512</td><td>0.000119735</td><td>1.64385</td><td>1.52861</td><td>0.0107375</td><td>3.0763e-05</td><td>6.36818e-07</td><td>102760453</td><td>128</td><td>32768</td></tr>\n",
       "<tr><td>190361393344112894</td><td>287165374630000023</td><td>5</td><td>56972.6539243</td><td>139.33444226</td><td>68.63506087</td><td>0.00687817</td><td>2.79326e-05</td><td>1.53686</td><td>1.28813</td><td>0.991647</td><td>0.00699914</td><td>2.16585e-05</td><td>102760517</td><td>128</td><td>7374912</td></tr>\n",
       "<tr><td>190361393344112894</td><td>287265116630000028</td><td>5</td><td>56973.6513438</td><td>139.33444991</td><td>68.63505759</td><td>0.00665377</td><td>2.7704e-05</td><td>1.85619</td><td>1.70397</td><td>0.99864</td><td>0.00663106</td><td>2.13156e-05</td><td>102760517</td><td>128</td><td>7342144</td></tr>\n",
       "<tr><td>190361393380433853</td><td>188442109550000682</td><td>1</td><td>55985.4213546</td><td>139.33813326</td><td>68.63587724</td><td>7.18778e-06</td><td>1.49795e-06</td><td>1.60458</td><td>1.48137</td><td>0.775105</td><td>1.57847e-05</td><td>5.01108e-07</td><td>35651585</td><td>0</td><td>7340032</td></tr>\n",
       "<tr><td>190361393380433853</td><td>293149556670000705</td><td>3</td><td>57032.4958295</td><td>139.33801162</td><td>68.63615802</td><td>1.78657e-05</td><td>3.22211e-06</td><td>1.5916</td><td>1.50048</td><td>0.738016</td><td>3.04251e-05</td><td>6.38589e-07</td><td>35651585</td><td>0</td><td>7372800</td></tr>\n",
       "<tr><td>190361393380433853</td><td>293153373670000424</td><td>3</td><td>57032.5340089</td><td>139.33822877</td><td>68.63614678</td><td>1.93364e-05</td><td>4.28875e-06</td><td>1.85352</td><td>1.64605</td><td>0.552134</td><td>2.54446e-05</td><td>5.80503e-07</td><td>35651585</td><td>0</td><td>7372800</td></tr>\n",
       "<tr><td>190361393408801421</td><td>183253434520000989</td><td>4</td><td>55933.534515</td><td>139.34097218</td><td>68.63385666</td><td>1.36238e-05</td><td>3.7055e-06</td><td>1.251</td><td>1.15251</td><td>0.663922</td><td>1.41051e-05</td><td>6.05429e-07</td><td>35651585</td><td>0</td><td>7372800</td></tr>\n",
       "<tr><td>190361393408801421</td><td>183254354520000536</td><td>5</td><td>55933.5437238</td><td>139.34116307</td><td>68.63404937</td><td>2.90118e-05</td><td>7.34204e-06</td><td>0.959956</td><td>0.901216</td><td>0.812762</td><td>5.55487e-05</td><td>1.97227e-06</td><td>35651585</td><td>0</td><td>7372800</td></tr>\n",
       "<tr><td>190361393421444329</td><td>191829670200000286</td><td>4</td><td>56019.2968782</td><td>139.34225205</td><td>68.63627169</td><td>7.67604e-05</td><td>3.07286e-06</td><td>0.998263</td><td>0.900084</td><td>0.171133</td><td>5.11663e-05</td><td>1.17313e-06</td><td>35653633</td><td>160</td><td>7374912</td></tr>\n",
       "<tr><td>190361393421444329</td><td>191830362200000349</td><td>4</td><td>56019.3038014</td><td>139.34219968</td><td>68.6362914</td><td>6.12512e-05</td><td>2.95233e-06</td><td>1.039</td><td>0.854379</td><td>0.26315</td><td>4.07182e-05</td><td>1.04731e-06</td><td>35653633</td><td>32</td><td>7374912</td></tr>\n",
       "</table>"
      ],
      "text/plain": [
       "<Table length=75>\n",
       "       oid              detectID      filterID ...  infoFlag infoFlag2 infoFlag3\n",
       "                                               ...                              \n",
       "      int64              int64         uint8   ...   int64     int32     int32  \n",
       "------------------ ------------------ -------- ... --------- --------- ---------\n",
       "190361393343891094 262444864030001447        2 ...  35651585         0  74481664\n",
       "190361393343891094 262444188030000970        2 ...  35651585         0   7372800\n",
       "190361393344112894 153443866410000015        3 ... 102760517       128   7374912\n",
       "190361393344112894 153445192410000017        3 ... 102760517       128   7374912\n",
       "190361393344112894 153347716310000010        1 ... 102760517       128 124782656\n",
       "190361393344112894 153348968310000008        1 ... 102760517       128 124782656\n",
       "190361393344112894 153441340410000012        2 ... 102760517       128 124815424\n",
       "190361393344112894 153442549410000013        2 ... 102760517       160     34880\n",
       "190361393344112894 118025265260000028        4 ... 102760517       128   7374912\n",
       "               ...                ...      ... ...       ...       ...       ...\n",
       "190361393344112894 262444188030000265        2 ... 102760453       128     32768\n",
       "190361393344112894 287165374630000023        5 ... 102760517       128   7374912\n",
       "190361393344112894 287265116630000028        5 ... 102760517       128   7342144\n",
       "190361393380433853 188442109550000682        1 ...  35651585         0   7340032\n",
       "190361393380433853 293149556670000705        3 ...  35651585         0   7372800\n",
       "190361393380433853 293153373670000424        3 ...  35651585         0   7372800\n",
       "190361393408801421 183253434520000989        4 ...  35651585         0   7372800\n",
       "190361393408801421 183254354520000536        5 ...  35651585         0   7372800\n",
       "190361393421444329 191829670200000286        4 ...  35653633       160   7374912\n",
       "190361393421444329 191830362200000349        4 ...  35653633        32   7374912"
      ]
     },
     "execution_count": 3,
     "metadata": {},
     "output_type": "execute_result"
    }
   ],
   "source": [
    "import io\n",
    "from astropy.io.votable import parse,parse_single_table,from_table, writeto\n",
    "votable = data_ps1.encode(encoding='UTF-8')\n",
    "bio = io.BytesIO(votable)\n",
    "votable = parse(bio)\n",
    "table_votable = parse_single_table(bio).to_table()\n",
    "table_votable"
   ]
  },
  {
   "cell_type": "code",
   "execution_count": 8,
   "metadata": {},
   "outputs": [
    {
     "data": {
      "text/plain": [
       "<Freya_alerce.catalogs.core.DataLcDegree at 0x7f92248b9df0>"
      ]
     },
     "execution_count": 8,
     "metadata": {},
     "output_type": "execute_result"
    }
   ],
   "source": []
  },
  {
   "cell_type": "code",
   "execution_count": 4,
   "metadata": {},
   "outputs": [],
   "source": [
    "data_hms = GetData(catalog='ztf',hms='9h17m20.26793280000689s +4h34m32.414496000003936s',radius=0.0002777,format='votable').get_lc_hms_all()"
   ]
  },
  {
   "cell_type": "code",
   "execution_count": 5,
   "metadata": {},
   "outputs": [
    {
     "data": {
      "text/html": [
       "<i>Table length=496</i>\n",
       "<table id=\"table139705978869744\" class=\"table-striped table-bordered table-condensed\">\n",
       "<thead><tr><th>oid</th><th>expid</th><th>hjd</th><th>mjd</th><th>mag</th><th>magerr</th><th>catflags</th><th>filtercode</th><th>ra</th><th>dec</th><th>chi</th><th>sharp</th><th>filefracday</th><th>field</th><th>ccdid</th><th>qid</th><th>limitmag</th><th>magzp</th><th>magzprms</th><th>clrcoeff</th><th>clrcounc</th><th>exptime</th><th>airmass</th><th>programid</th></tr></thead>\n",
       "<thead><tr><th></th><th></th><th>d</th><th>d</th><th>mag</th><th>mag</th><th></th><th></th><th>deg</th><th>deg</th><th></th><th></th><th></th><th></th><th></th><th></th><th>mag</th><th>mag</th><th>mag</th><th></th><th></th><th>s</th><th></th><th></th></tr></thead>\n",
       "<thead><tr><th>int64</th><th>int32</th><th>float64</th><th>float64</th><th>float32</th><th>float32</th><th>int32</th><th>object</th><th>float64</th><th>float64</th><th>float32</th><th>float32</th><th>int64</th><th>int32</th><th>uint8</th><th>uint8</th><th>float32</th><th>float32</th><th>float32</th><th>float32</th><th>float32</th><th>float32</th><th>float32</th><th>int32</th></tr></thead>\n",
       "<tr><td>841108100002803</td><td>45020895</td><td>2458204.7103471234</td><td>58204.2089583</td><td>14.582512</td><td>0.01341612</td><td>0</td><td>zg</td><td>139.3344499</td><td>68.6351426</td><td>1.221</td><td>0.002</td><td>20180327208819</td><td>841</td><td>8</td><td>1</td><td>19.97</td><td>26.298761</td><td>0.044585202</td><td>-0.11146379</td><td>9.223412e-05</td><td>30.0</td><td>1.234</td><td>1</td></tr>\n",
       "<tr><td>841108100002803</td><td>45025068</td><td>2458204.752069184</td><td>58204.2506829</td><td>14.802849</td><td>0.013500422</td><td>0</td><td>zg</td><td>139.3344837</td><td>68.6350998</td><td>1.687</td><td>0.001</td><td>20180327250509</td><td>841</td><td>8</td><td>1</td><td>20.0</td><td>26.324442</td><td>0.043346956</td><td>-0.13364574</td><td>8.8861685e-05</td><td>30.0</td><td>1.244</td><td>1</td></tr>\n",
       "<tr><td>841108100002803</td><td>45325025</td><td>2458207.751456796</td><td>58207.2502546</td><td>15.135892</td><td>0.013725951</td><td>0</td><td>zg</td><td>139.3344512</td><td>68.6350679</td><td>1.184</td><td>-0.072</td><td>20180330250081</td><td>841</td><td>8</td><td>1</td><td>20.07</td><td>26.19785</td><td>0.04138201</td><td>-0.09634854</td><td>7.72008e-05</td><td>30.0</td><td>1.249</td><td>1</td></tr>\n",
       "<tr><td>841108100002803</td><td>45331289</td><td>2458207.8140918068</td><td>58207.3128935</td><td>15.100408</td><td>0.01369536</td><td>0</td><td>zg</td><td>139.3344592</td><td>68.6350593</td><td>1.376</td><td>-0.041</td><td>20180330312743</td><td>841</td><td>8</td><td>1</td><td>19.85</td><td>25.976866</td><td>0.051563997</td><td>-0.05504366</td><td>0.00014857836</td><td>30.0</td><td>1.333</td><td>1</td></tr>\n",
       "<tr><td>841108100002803</td><td>45625013</td><td>2458210.7511542714</td><td>58210.2501389</td><td>14.965828</td><td>0.013594261</td><td>0</td><td>zg</td><td>139.3344365</td><td>68.6350775</td><td>0.395</td><td>-0.029</td><td>20180402250012</td><td>841</td><td>8</td><td>1</td><td>20.38</td><td>26.169334</td><td>0.03877301</td><td>-0.06522929</td><td>5.5412576e-05</td><td>30.0</td><td>1.255</td><td>1</td></tr>\n",
       "<tr><td>841108100002803</td><td>45625060</td><td>2458210.751617243</td><td>58210.2506019</td><td>14.967088</td><td>0.013595102</td><td>0</td><td>zg</td><td>139.3344434</td><td>68.6350705</td><td>0.803</td><td>-0.038</td><td>20180402250590</td><td>841</td><td>8</td><td>1</td><td>20.48</td><td>26.17558</td><td>0.03243054</td><td>-0.055340428</td><td>3.7756785e-05</td><td>30.0</td><td>1.256</td><td>1</td></tr>\n",
       "<tr><td>841108100002803</td><td>47317651</td><td>2458227.6764497044</td><td>58227.1765162</td><td>15.052502</td><td>0.013656734</td><td>0</td><td>zg</td><td>139.3344481</td><td>68.6350677</td><td>0.605</td><td>-0.027</td><td>20180419176400</td><td>841</td><td>8</td><td>1</td><td>21.27</td><td>26.260796</td><td>0.031548835</td><td>-0.09728979</td><td>2.5469673e-05</td><td>30.0</td><td>1.238</td><td>1</td></tr>\n",
       "<tr><td>841108100002803</td><td>48018374</td><td>2458234.683236291</td><td>58234.18375</td><td>14.280519</td><td>0.013365194</td><td>0</td><td>zg</td><td>139.3344423</td><td>68.6350609</td><td>0.992</td><td>-0.017</td><td>20180426183727</td><td>841</td><td>8</td><td>1</td><td>20.3</td><td>26.282293</td><td>0.03863886</td><td>-0.07043268</td><td>5.648997e-05</td><td>30.0</td><td>1.255</td><td>1</td></tr>\n",
       "<tr><td>841108100002803</td><td>48023605</td><td>2458234.73553617</td><td>58234.2360532</td><td>13.938658</td><td>0.013376946</td><td>0</td><td>zg</td><td>139.3344679</td><td>68.6350733</td><td>0.718</td><td>0.007</td><td>20180426236007</td><td>841</td><td>8</td><td>1</td><td>20.22</td><td>26.017723</td><td>0.04382442</td><td>-0.076464266</td><td>7.2010815e-05</td><td>30.0</td><td>1.327</td><td>1</td></tr>\n",
       "<tr><td>...</td><td>...</td><td>...</td><td>...</td><td>...</td><td>...</td><td>...</td><td>...</td><td>...</td><td>...</td><td>...</td><td>...</td><td>...</td><td>...</td><td>...</td><td>...</td><td>...</td><td>...</td><td>...</td><td>...</td><td>...</td><td>...</td><td>...</td><td>...</td></tr>\n",
       "<tr><td>1848215200006181</td><td>75547538</td><td>2458509.979185881</td><td>58509.4753819</td><td>14.7406845</td><td>0.010660611</td><td>0</td><td>zr</td><td>139.3344224</td><td>68.6350973</td><td>0.765</td><td>0.001</td><td>20190126475370</td><td>1848</td><td>15</td><td>2</td><td>19.9</td><td>26.115711</td><td>0.04628478</td><td>0.09857922</td><td>6.0458195e-05</td><td>30.0</td><td>1.279</td><td>2</td></tr>\n",
       "<tr><td>1848215200006181</td><td>78037050</td><td>2458534.8736852934</td><td>58534.3705093</td><td>13.895456</td><td>0.010839362</td><td>0</td><td>zr</td><td>139.3345263</td><td>68.6352901</td><td>1.509</td><td>0.021</td><td>20190220370451</td><td>1848</td><td>15</td><td>2</td><td>18.97</td><td>26.112165</td><td>0.045237727</td><td>0.10235295</td><td>9.374093e-05</td><td>30.0</td><td>1.22</td><td>1</td></tr>\n",
       "<tr><td>1848215200006181</td><td>78622905</td><td>2458540.731990671</td><td>58540.2290509</td><td>13.990696</td><td>0.010786644</td><td>0</td><td>zr</td><td>139.334429</td><td>68.6350604</td><td>0.85</td><td>0.026</td><td>20190226229051</td><td>1848</td><td>15</td><td>2</td><td>21.59</td><td>26.117912</td><td>0.026266078</td><td>0.09380243</td><td>1.9790385e-05</td><td>30.0</td><td>1.221</td><td>1</td></tr>\n",
       "<tr><td>1848215200006181</td><td>80419596</td><td>2458558.698007525</td><td>58558.1959606</td><td>13.827832</td><td>0.010880538</td><td>0</td><td>zr</td><td>139.3344451</td><td>68.6351031</td><td>1.442</td><td>0.003</td><td>20190316195903</td><td>1848</td><td>15</td><td>2</td><td>19.77</td><td>26.10109</td><td>0.04271663</td><td>0.10757353</td><td>5.3005846e-05</td><td>30.0</td><td>1.204</td><td>1</td></tr>\n",
       "<tr><td>1848215200006181</td><td>82023686</td><td>2458574.7379578715</td><td>58574.2368634</td><td>14.147131</td><td>0.010714819</td><td>32768</td><td>zr</td><td>139.3344541</td><td>68.6350566</td><td>0.751</td><td>0.027</td><td>20190401236817</td><td>1848</td><td>15</td><td>2</td><td>18.1</td><td>23.339998</td><td>0.062035084</td><td>0.073535375</td><td>0.0005629148</td><td>30.0</td><td>1.196</td><td>1</td></tr>\n",
       "<tr><td>1848215200006181</td><td>82824655</td><td>2458582.7471384467</td><td>58582.2465509</td><td>14.65777</td><td>0.0106428405</td><td>0</td><td>zr</td><td>139.3344606</td><td>68.6350744</td><td>0.95</td><td>0.043</td><td>20190409246331</td><td>1848</td><td>15</td><td>2</td><td>21.44</td><td>26.083715</td><td>0.02426903</td><td>0.08699467</td><td>1.7139377e-05</td><td>30.0</td><td>1.229</td><td>1</td></tr>\n",
       "<tr><td>1848215200006181</td><td>83520562</td><td>2458589.7057655635</td><td>58589.205625</td><td>14.686021</td><td>0.010647813</td><td>32768</td><td>zr</td><td>139.3344367</td><td>68.6350705</td><td>0.876</td><td>-0.004</td><td>20190416205613</td><td>1848</td><td>15</td><td>2</td><td>18.93</td><td>25.24709</td><td>0.04320261</td><td>0.07991884</td><td>9.254184e-05</td><td>30.0</td><td>1.204</td><td>1</td></tr>\n",
       "<tr><td>1848215200006181</td><td>83828582</td><td>2458592.7857643533</td><td>58592.2858218</td><td>14.178041</td><td>0.010702994</td><td>0</td><td>zr</td><td>139.3344538</td><td>68.6350633</td><td>0.648</td><td>0.058</td><td>20190419285822</td><td>1848</td><td>15</td><td>2</td><td>20.25</td><td>26.064285</td><td>0.029120311</td><td>0.09917387</td><td>2.4473738e-05</td><td>30.0</td><td>1.374</td><td>1</td></tr>\n",
       "<tr><td>1848215200006181</td><td>83932565</td><td>2458593.825535519</td><td>58593.3256597</td><td>14.378101</td><td>0.010647727</td><td>0</td><td>zr</td><td>139.3344692</td><td>68.6350733</td><td>1.131</td><td>-0.002</td><td>20190420325637</td><td>1848</td><td>15</td><td>2</td><td>20.17</td><td>26.054974</td><td>0.031960994</td><td>0.10575988</td><td>2.9152641e-05</td><td>30.0</td><td>1.535</td><td>1</td></tr>\n",
       "<tr><td>1848215200006181</td><td>86426273</td><td>2458618.761081573</td><td>58618.2627315</td><td>14.653789</td><td>0.010642226</td><td>0</td><td>zr</td><td>139.3344807</td><td>68.6350725</td><td>0.698</td><td>-0.02</td><td>20190515262720</td><td>1848</td><td>15</td><td>2</td><td>20.5</td><td>25.94408</td><td>0.027505198</td><td>0.09459848</td><td>2.1447326e-05</td><td>30.0</td><td>1.56</td><td>1</td></tr>\n",
       "</table>"
      ],
      "text/plain": [
       "<Table length=496>\n",
       "      oid         expid          hjd         ... exptime airmass programid\n",
       "                                  d          ...    s                     \n",
       "     int64        int32        float64       ... float32 float32   int32  \n",
       "---------------- -------- ------------------ ... ------- ------- ---------\n",
       " 841108100002803 45020895 2458204.7103471234 ...    30.0   1.234         1\n",
       " 841108100002803 45025068  2458204.752069184 ...    30.0   1.244         1\n",
       " 841108100002803 45325025  2458207.751456796 ...    30.0   1.249         1\n",
       " 841108100002803 45331289 2458207.8140918068 ...    30.0   1.333         1\n",
       " 841108100002803 45625013 2458210.7511542714 ...    30.0   1.255         1\n",
       " 841108100002803 45625060  2458210.751617243 ...    30.0   1.256         1\n",
       " 841108100002803 47317651 2458227.6764497044 ...    30.0   1.238         1\n",
       " 841108100002803 48018374  2458234.683236291 ...    30.0   1.255         1\n",
       " 841108100002803 48023605   2458234.73553617 ...    30.0   1.327         1\n",
       "             ...      ...                ... ...     ...     ...       ...\n",
       "1848215200006181 75547538  2458509.979185881 ...    30.0   1.279         2\n",
       "1848215200006181 78037050 2458534.8736852934 ...    30.0    1.22         1\n",
       "1848215200006181 78622905  2458540.731990671 ...    30.0   1.221         1\n",
       "1848215200006181 80419596  2458558.698007525 ...    30.0   1.204         1\n",
       "1848215200006181 82023686 2458574.7379578715 ...    30.0   1.196         1\n",
       "1848215200006181 82824655 2458582.7471384467 ...    30.0   1.229         1\n",
       "1848215200006181 83520562 2458589.7057655635 ...    30.0   1.204         1\n",
       "1848215200006181 83828582 2458592.7857643533 ...    30.0   1.374         1\n",
       "1848215200006181 83932565  2458593.825535519 ...    30.0   1.535         1\n",
       "1848215200006181 86426273  2458618.761081573 ...    30.0    1.56         1"
      ]
     },
     "execution_count": 5,
     "metadata": {},
     "output_type": "execute_result"
    }
   ],
   "source": [
    "votable = data_hms.encode(encoding='UTF-8')\n",
    "bio = io.BytesIO(votable)\n",
    "votable = parse(bio)\n",
    "table_votable = parse_single_table(bio).to_table()\n",
    "table_votable"
   ]
  },
  {
   "cell_type": "code",
   "execution_count": null,
   "metadata": {},
   "outputs": [],
   "source": []
  }
 ],
 "metadata": {
  "kernelspec": {
   "display_name": "Memoria",
   "language": "python",
   "name": "memoria"
  },
  "language_info": {
   "codemirror_mode": {
    "name": "ipython",
    "version": 3
   },
   "file_extension": ".py",
   "mimetype": "text/x-python",
   "name": "python",
   "nbconvert_exporter": "python",
   "pygments_lexer": "ipython3",
   "version": "3.9.0"
  }
 },
 "nbformat": 4,
 "nbformat_minor": 4
}
