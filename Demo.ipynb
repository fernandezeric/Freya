{
 "cells": [
  {
   "cell_type": "code",
   "execution_count": 1,
   "metadata": {},
   "outputs": [],
   "source": [
    "import requests\n",
    "import json\n",
    "from astropy.io import ascii\n",
    "from astropy.table import Table"
   ]
  },
  {
   "cell_type": "code",
   "execution_count": 2,
   "metadata": {},
   "outputs": [],
   "source": [
    "def consulta_hms(hms,radius,format,catalog,amount):\n",
    "    url = 'http://0.0.0.0:5000/get_data/lc_hms'\n",
    "    args = {'hms':hms,'radius':radius,'format':format,'catalogs':catalog,'amount':amount}\n",
    "    r = requests.get(url=url,params=args)\n",
    "    return r"
   ]
  },
  {
   "cell_type": "code",
   "execution_count": 3,
   "metadata": {},
   "outputs": [],
   "source": [
    "def consulta_degree(ra,dec,radius,format,catalog,amount):\n",
    "    url = 'http://0.0.0.0:5000/get_data/lc_degree'\n",
    "    args = {'ra':ra,'dec':dec,'radius':radius,'format':format,'catalogs':catalog,'amount':amount}\n",
    "    r = requests.get(url=url,params=args)\n",
    "    return r"
   ]
  },
  {
   "cell_type": "code",
   "execution_count": 4,
   "metadata": {},
   "outputs": [],
   "source": [
    "all_data = consulta_degree(139.33444972,68.6350604,0.0002777,'csv','ps1,ztf','nearest')"
   ]
  },
  {
   "cell_type": "code",
   "execution_count": 5,
   "metadata": {},
   "outputs": [],
   "source": [
    "all_data = ascii.read(all_data.text,  format='csv', guess=False)"
   ]
  },
  {
   "cell_type": "code",
   "execution_count": 6,
   "metadata": {},
   "outputs": [
    {
     "data": {
      "text/html": [
       "<i>Table length=84</i>\n",
       "<table id=\"table140127875099616\" class=\"table-striped table-bordered table-condensed\">\n",
       "<thead><tr><th>obj</th><th>ra</th><th>dec</th><th>mjd</th><th>mag</th><th>magerr</th><th>filter</th><th>catalog</th></tr></thead>\n",
       "<thead><tr><th>int64</th><th>float64</th><th>float64</th><th>float64</th><th>float64</th><th>float64</th><th>str2</th><th>str3</th></tr></thead>\n",
       "<tr><td>190361393344112894</td><td>139.33447819</td><td>68.63506142</td><td>55635.4389349</td><td>14.033394136845427</td><td>21.390487345551463</td><td>i</td><td>PS1</td></tr>\n",
       "<tr><td>190361393344112894</td><td>139.33449752</td><td>68.63506221</td><td>55635.4521903</td><td>14.10485861743984</td><td>21.376149668614183</td><td>i</td><td>PS1</td></tr>\n",
       "<tr><td>190361393344112894</td><td>139.3345207</td><td>68.63503577</td><td>55634.477414</td><td>14.107297542694646</td><td>21.257033319209278</td><td>g</td><td>PS1</td></tr>\n",
       "<tr><td>190361393344112894</td><td>139.33448821</td><td>68.63506146</td><td>55634.4899457</td><td>14.178526424563607</td><td>21.293876239691713</td><td>g</td><td>PS1</td></tr>\n",
       "<tr><td>190361393344112894</td><td>139.33447173</td><td>68.6350534</td><td>55635.4136426</td><td>13.92331168807947</td><td>21.28822929750074</td><td>r</td><td>PS1</td></tr>\n",
       "<tr><td>190361393344112894</td><td>139.33447732</td><td>68.63505279</td><td>55635.4257356</td><td>13.971566846508708</td><td>21.296024924381825</td><td>r</td><td>PS1</td></tr>\n",
       "<tr><td>190361393344112894</td><td>139.33447243</td><td>68.63507592</td><td>55281.2528285</td><td>14.537914623514524</td><td>21.164049291417655</td><td>z</td><td>PS1</td></tr>\n",
       "<tr><td>190361393344112894</td><td>139.3344753</td><td>68.63507505</td><td>55281.2625151</td><td>14.428553942567325</td><td>21.09988203663201</td><td>z</td><td>PS1</td></tr>\n",
       "<tr><td>190361393344112894</td><td>139.33445713</td><td>68.63507615</td><td>55257.3668569</td><td>14.578115468093232</td><td>20.35234219563905</td><td>y</td><td>PS1</td></tr>\n",
       "<tr><td>190361393344112894</td><td>139.33444929</td><td>68.63506405</td><td>55257.3780646</td><td>14.58661369308361</td><td>20.556117235503294</td><td>y</td><td>PS1</td></tr>\n",
       "<tr><td>...</td><td>...</td><td>...</td><td>...</td><td>...</td><td>...</td><td>...</td><td>...</td></tr>\n",
       "<tr><td>1848215200006181</td><td>139.3344224</td><td>68.6350973</td><td>58509.4753819</td><td>14.7406845</td><td>0.0106606111</td><td>zr</td><td>ZTF</td></tr>\n",
       "<tr><td>1848215200006181</td><td>139.3345263</td><td>68.6352901</td><td>58534.3705093</td><td>13.8954563</td><td>0.0108393617</td><td>zr</td><td>ZTF</td></tr>\n",
       "<tr><td>1848215200006181</td><td>139.334429</td><td>68.6350604</td><td>58540.2290509</td><td>13.990696</td><td>0.0107866442</td><td>zr</td><td>ZTF</td></tr>\n",
       "<tr><td>1848215200006181</td><td>139.3344451</td><td>68.6351031</td><td>58558.1959606</td><td>13.8278322</td><td>0.0108805383</td><td>zr</td><td>ZTF</td></tr>\n",
       "<tr><td>1848215200006181</td><td>139.3344541</td><td>68.6350566</td><td>58574.2368634</td><td>14.147131</td><td>0.0107148187</td><td>zr</td><td>ZTF</td></tr>\n",
       "<tr><td>1848215200006181</td><td>139.3344606</td><td>68.6350744</td><td>58582.2465509</td><td>14.6577702</td><td>0.0106428405</td><td>zr</td><td>ZTF</td></tr>\n",
       "<tr><td>1848215200006181</td><td>139.3344367</td><td>68.6350705</td><td>58589.205625</td><td>14.6860209</td><td>0.0106478129</td><td>zr</td><td>ZTF</td></tr>\n",
       "<tr><td>1848215200006181</td><td>139.3344538</td><td>68.6350633</td><td>58592.2858218</td><td>14.1780415</td><td>0.0107029937</td><td>zr</td><td>ZTF</td></tr>\n",
       "<tr><td>1848215200006181</td><td>139.3344692</td><td>68.6350733</td><td>58593.3256597</td><td>14.3781013</td><td>0.0106477272</td><td>zr</td><td>ZTF</td></tr>\n",
       "<tr><td>1848215200006181</td><td>139.3344807</td><td>68.6350725</td><td>58618.2627315</td><td>14.6537886</td><td>0.0106422259</td><td>zr</td><td>ZTF</td></tr>\n",
       "</table>"
      ],
      "text/plain": [
       "<Table length=84>\n",
       "       obj              ra          dec     ... filter catalog\n",
       "      int64          float64      float64   ...  str2    str3 \n",
       "------------------ ------------ ----------- ... ------ -------\n",
       "190361393344112894 139.33447819 68.63506142 ...      i     PS1\n",
       "190361393344112894 139.33449752 68.63506221 ...      i     PS1\n",
       "190361393344112894  139.3345207 68.63503577 ...      g     PS1\n",
       "190361393344112894 139.33448821 68.63506146 ...      g     PS1\n",
       "190361393344112894 139.33447173  68.6350534 ...      r     PS1\n",
       "190361393344112894 139.33447732 68.63505279 ...      r     PS1\n",
       "190361393344112894 139.33447243 68.63507592 ...      z     PS1\n",
       "190361393344112894  139.3344753 68.63507505 ...      z     PS1\n",
       "190361393344112894 139.33445713 68.63507615 ...      y     PS1\n",
       "190361393344112894 139.33444929 68.63506405 ...      y     PS1\n",
       "               ...          ...         ... ...    ...     ...\n",
       "  1848215200006181  139.3344224  68.6350973 ...     zr     ZTF\n",
       "  1848215200006181  139.3345263  68.6352901 ...     zr     ZTF\n",
       "  1848215200006181   139.334429  68.6350604 ...     zr     ZTF\n",
       "  1848215200006181  139.3344451  68.6351031 ...     zr     ZTF\n",
       "  1848215200006181  139.3344541  68.6350566 ...     zr     ZTF\n",
       "  1848215200006181  139.3344606  68.6350744 ...     zr     ZTF\n",
       "  1848215200006181  139.3344367  68.6350705 ...     zr     ZTF\n",
       "  1848215200006181  139.3344538  68.6350633 ...     zr     ZTF\n",
       "  1848215200006181  139.3344692  68.6350733 ...     zr     ZTF\n",
       "  1848215200006181  139.3344807  68.6350725 ...     zr     ZTF"
      ]
     },
     "execution_count": 6,
     "metadata": {},
     "output_type": "execute_result"
    }
   ],
   "source": [
    "all_data"
   ]
  },
  {
   "cell_type": "code",
   "execution_count": null,
   "metadata": {},
   "outputs": [],
   "source": []
  },
  {
   "cell_type": "code",
   "execution_count": 7,
   "metadata": {},
   "outputs": [],
   "source": [
    "from Freya_alerce.catalogs.core.data_lc import DataLcDegree,DataLcHms\n",
    "from astropy.io import ascii\n",
    "from astropy.table import Table"
   ]
  },
  {
   "cell_type": "code",
   "execution_count": 8,
   "metadata": {},
   "outputs": [],
   "source": [
    "data_ps1 = DataLcDegree(catalog='ps1',ra=139.33444972,dec=68.6350604,radius=0.00356,format='votable',nearest=True).get_data()\n",
    "data_ztf = DataLcDegree(catalog='ztf',ra=139.33444972,dec=68.6350604,radius=0.0002777,format='csv',nearest=False).get_data()"
   ]
  },
  {
   "cell_type": "code",
   "execution_count": 9,
   "metadata": {},
   "outputs": [
    {
     "data": {
      "text/html": [
       "<i>Table length=66</i>\n",
       "<table id=\"table140126863208160\" class=\"table-striped table-bordered table-condensed\">\n",
       "<thead><tr><th>obj</th><th>ra</th><th>dec</th><th>mjd</th><th>mag</th><th>magerr</th><th>filter</th><th>catalog</th></tr></thead>\n",
       "<thead><tr><th>str18</th><th>str12</th><th>str11</th><th>str13</th><th>str18</th><th>str18</th><th>str1</th><th>str3</th></tr></thead>\n",
       "<tr><td>190361393344112894</td><td>139.33447819</td><td>68.63506142</td><td>55635.4389349</td><td>14.033394136845427</td><td>21.390487345551463</td><td>i</td><td>PS1</td></tr>\n",
       "<tr><td>190361393344112894</td><td>139.33449752</td><td>68.63506221</td><td>55635.4521903</td><td>14.10485861743984</td><td>21.376149668614183</td><td>i</td><td>PS1</td></tr>\n",
       "<tr><td>190361393344112894</td><td>139.3345207</td><td>68.63503577</td><td>55634.477414</td><td>14.107297542694646</td><td>21.257033319209278</td><td>g</td><td>PS1</td></tr>\n",
       "<tr><td>190361393344112894</td><td>139.33448821</td><td>68.63506146</td><td>55634.4899457</td><td>14.178526424563607</td><td>21.293876239691713</td><td>g</td><td>PS1</td></tr>\n",
       "<tr><td>190361393344112894</td><td>139.33447173</td><td>68.6350534</td><td>55635.4136426</td><td>13.92331168807947</td><td>21.28822929750074</td><td>r</td><td>PS1</td></tr>\n",
       "<tr><td>190361393344112894</td><td>139.33447732</td><td>68.63505279</td><td>55635.4257356</td><td>13.971566846508708</td><td>21.296024924381825</td><td>r</td><td>PS1</td></tr>\n",
       "<tr><td>190361393344112894</td><td>139.33447243</td><td>68.63507592</td><td>55281.2528285</td><td>14.537914623514524</td><td>21.164049291417655</td><td>z</td><td>PS1</td></tr>\n",
       "<tr><td>190361393344112894</td><td>139.3344753</td><td>68.63507505</td><td>55281.2625151</td><td>14.428553942567325</td><td>21.09988203663201</td><td>z</td><td>PS1</td></tr>\n",
       "<tr><td>190361393344112894</td><td>139.33445713</td><td>68.63507615</td><td>55257.3668569</td><td>14.578115468093232</td><td>20.35234219563905</td><td>y</td><td>PS1</td></tr>\n",
       "<tr><td>190361393344112894</td><td>139.33444929</td><td>68.63506405</td><td>55257.3780646</td><td>14.58661369308361</td><td>20.556117235503294</td><td>y</td><td>PS1</td></tr>\n",
       "<tr><td>...</td><td>...</td><td>...</td><td>...</td><td>...</td><td>...</td><td>...</td><td>...</td></tr>\n",
       "<tr><td>190361393344112894</td><td>139.33444687</td><td>68.63505478</td><td>57028.5172405</td><td>14.165585842451293</td><td>21.320368387236883</td><td>i</td><td>PS1</td></tr>\n",
       "<tr><td>190361393344112894</td><td>139.33445989</td><td>68.63505735</td><td>57028.5307354</td><td>14.177648361722733</td><td>21.327809636481327</td><td>i</td><td>PS1</td></tr>\n",
       "<tr><td>190361393344112894</td><td>139.33442592</td><td>68.63505016</td><td>57030.4642095</td><td>14.211715876452011</td><td>21.433334849066284</td><td>i</td><td>PS1</td></tr>\n",
       "<tr><td>190361393344112894</td><td>139.33443108</td><td>68.63505047</td><td>57030.4776274</td><td>14.289524932472094</td><td>21.4574009140537</td><td>i</td><td>PS1</td></tr>\n",
       "<tr><td>190361393344112894</td><td>139.33444638</td><td>68.63504712</td><td>57030.4910438</td><td>14.26230655171619</td><td>21.46047875418159</td><td>i</td><td>PS1</td></tr>\n",
       "<tr><td>190361393344112894</td><td>139.3344454</td><td>68.63505639</td><td>57030.5044608</td><td>14.249252300764386</td><td>21.457289940404138</td><td>i</td><td>PS1</td></tr>\n",
       "<tr><td>190361393344112894</td><td>139.3345672</td><td>68.63503772</td><td>56725.4488812</td><td>14.250635610645313</td><td>18.587598876341296</td><td>r</td><td>PS1</td></tr>\n",
       "<tr><td>190361393344112894</td><td>139.33440513</td><td>68.63515693</td><td>56725.4421191</td><td>14.49421903545305</td><td>18.70444720986152</td><td>r</td><td>PS1</td></tr>\n",
       "<tr><td>190361393344112894</td><td>139.33444226</td><td>68.63506087</td><td>56972.6539243</td><td>14.306317706861746</td><td>20.284721611876485</td><td>y</td><td>PS1</td></tr>\n",
       "<tr><td>190361393344112894</td><td>139.33444991</td><td>68.63505759</td><td>56973.6513438</td><td>14.34233055923105</td><td>20.293643808490685</td><td>y</td><td>PS1</td></tr>\n",
       "</table>"
      ],
      "text/plain": [
       "<Table length=66>\n",
       "       obj              ra          dec     ... filter catalog\n",
       "      str18           str12        str11    ...  str1    str3 \n",
       "------------------ ------------ ----------- ... ------ -------\n",
       "190361393344112894 139.33447819 68.63506142 ...      i     PS1\n",
       "190361393344112894 139.33449752 68.63506221 ...      i     PS1\n",
       "190361393344112894  139.3345207 68.63503577 ...      g     PS1\n",
       "190361393344112894 139.33448821 68.63506146 ...      g     PS1\n",
       "190361393344112894 139.33447173  68.6350534 ...      r     PS1\n",
       "190361393344112894 139.33447732 68.63505279 ...      r     PS1\n",
       "190361393344112894 139.33447243 68.63507592 ...      z     PS1\n",
       "190361393344112894  139.3344753 68.63507505 ...      z     PS1\n",
       "190361393344112894 139.33445713 68.63507615 ...      y     PS1\n",
       "190361393344112894 139.33444929 68.63506405 ...      y     PS1\n",
       "               ...          ...         ... ...    ...     ...\n",
       "190361393344112894 139.33444687 68.63505478 ...      i     PS1\n",
       "190361393344112894 139.33445989 68.63505735 ...      i     PS1\n",
       "190361393344112894 139.33442592 68.63505016 ...      i     PS1\n",
       "190361393344112894 139.33443108 68.63505047 ...      i     PS1\n",
       "190361393344112894 139.33444638 68.63504712 ...      i     PS1\n",
       "190361393344112894  139.3344454 68.63505639 ...      i     PS1\n",
       "190361393344112894  139.3345672 68.63503772 ...      r     PS1\n",
       "190361393344112894 139.33440513 68.63515693 ...      r     PS1\n",
       "190361393344112894 139.33444226 68.63506087 ...      y     PS1\n",
       "190361393344112894 139.33444991 68.63505759 ...      y     PS1"
      ]
     },
     "execution_count": 9,
     "metadata": {},
     "output_type": "execute_result"
    }
   ],
   "source": [
    "import io\n",
    "from astropy.io.votable import parse,parse_single_table,from_table, writeto\n",
    "votable = data_ps1.encode(encoding='UTF-8')\n",
    "bio = io.BytesIO(votable)\n",
    "votable = parse(bio)\n",
    "table_votable = parse_single_table(bio).to_table()\n",
    "table_votable"
   ]
  },
  {
   "cell_type": "code",
   "execution_count": null,
   "metadata": {},
   "outputs": [],
   "source": []
  }
 ],
 "metadata": {
  "kernelspec": {
   "display_name": "Memoria",
   "language": "python",
   "name": "memoria"
  },
  "language_info": {
   "codemirror_mode": {
    "name": "ipython",
    "version": 3
   },
   "file_extension": ".py",
   "mimetype": "text/x-python",
   "name": "python",
   "nbconvert_exporter": "python",
   "pygments_lexer": "ipython3",
   "version": "3.9.0"
  }
 },
 "nbformat": 4,
 "nbformat_minor": 4
}
